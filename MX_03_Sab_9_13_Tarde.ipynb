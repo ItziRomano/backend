{
  "nbformat": 4,
  "nbformat_minor": 0,
  "metadata": {
    "colab": {
      "provenance": [],
      "include_colab_link": true
    },
    "kernelspec": {
      "name": "python3",
      "display_name": "Python 3"
    },
    "language_info": {
      "name": "python"
    }
  },
  "cells": [
    {
      "cell_type": "markdown",
      "metadata": {
        "id": "view-in-github",
        "colab_type": "text"
      },
      "source": [
        "<a href=\"https://colab.research.google.com/github/ItziRomano/backend/blob/main/MX_03_Sab_9_13_Tarde.ipynb\" target=\"_parent\"><img src=\"https://colab.research.google.com/assets/colab-badge.svg\" alt=\"Open In Colab\"/></a>"
      ]
    },
    {
      "cell_type": "markdown",
      "source": [
        "# **Ejercicio 1: El Restaurante Loco**\n",
        "\n",
        "Un restaurante extraño calcula las cuentas de forma rara:\n",
        "\n",
        "Cada platillo cuesta según la cantidad de letras que tenga su nombre (len(string)).\n",
        "\n",
        "Si el nombre del platillo empieza con vocal, tiene 10% de descuento, pero termina en \"z\" el descuento no apl\n",
        "\n",
        "Si termina en \"s\", tiene un costo extra de 5 unidades.\n",
        "\n",
        "\n",
        "\n",
        "👉 Tu tarea:\n",
        "\n",
        "Pedir al usuario que ingrese nombres de platillos.\n",
        "\n",
        "Calcular el costo de cada platillo aplicando las reglas.\n",
        "\n",
        "Guardar los resultados en una lista.\n",
        "\n",
        "Terminar con \"salir\".\n",
        "\n",
        "Mostrar un diccionario con:\n",
        "```\n",
        "{\n",
        "  \"ordenes\": [<lista_de_platillos>],\n",
        "  \"precios\": [<lista_de_precios>],\n",
        "  \"total\": <int>\n",
        "}\n",
        "\n",
        "```\n",
        "\n",
        "\n",
        "```\n",
        "Escribe un platillo: arroz\n",
        "Precio del platillo: 5  (len=5, inicia en vocal -10%, termina en z no aplica)\n",
        "Escribe un platillo: tacos\n",
        "Precio del platillo: 10 (len=5, no vocal, termina en s +5)\n",
        "Escribe un platillo: salir\n",
        "Diccionario final:\n",
        "{'ordenes': ['arroz', 'tacos'], 'precios': [5, 10], 'total': 15}\n",
        "```\n",
        "\n",
        "\n"
      ],
      "metadata": {
        "id": "bautt-BLCtp2"
      }
    },
    {
      "cell_type": "code",
      "source": [
        "palabra_clave = \"salir\"\n",
        "vocales = ['a', 'e', 'i', 'o', 'u']\n",
        "\n",
        "platillo = \"\"\n",
        "\n",
        "platillos = []\n",
        "precios = []\n",
        "total = 0\n",
        "while platillo != palabra_clave:\n",
        "  platillo = input(\"Escribe un platillo: \")\n",
        "  if platillo != palabra_clave:\n",
        "    precio_temp = len(platillo)\n",
        "    precio_real = 0\n",
        "    ultimo_caracter = platillo[-1]\n",
        "    if ultimo_caracter == 's':\n",
        "      precio_temp += 5\n",
        "      precio_real += precio_temp\n",
        "    elif platillo[0] in vocales and ultimo_caracter != 'z':\n",
        "      descuento = precio_temp * 0.1\n",
        "      precio_temp -= descuento\n",
        "      precio_real += precio_temp\n",
        "    else:\n",
        "      precio_real = precio_temp\n",
        "\n",
        "    platillos.append(platillo)\n",
        "    precios.append(precio_real)\n",
        "    total += precio_real\n",
        "    print(f\"Precio del platillo: {precio_real}\")\n",
        "\n",
        "dicc_final = {\"ordenes\": platillos ,\n",
        "                \"precios\": precios,\n",
        "                  \"total\": total}\n",
        "print(dicc_final)\n",
        "\n",
        "\n",
        "\n",
        "\n",
        "\n"
      ],
      "metadata": {
        "id": "NBLTK9IZ7FbG",
        "colab": {
          "base_uri": "https://localhost:8080/"
        },
        "outputId": "b5bdc158-a791-482e-ce1e-dbca91283d9f"
      },
      "execution_count": null,
      "outputs": [
        {
          "output_type": "stream",
          "name": "stdout",
          "text": [
            "Escribe un platillo: arroz\n",
            "Precio del platillo: 5\n",
            "Escribe un platillo: pizza\n",
            "Precio del platillo: 5\n",
            "Escribe un platillo: lasagna\n",
            "Precio del platillo: 7\n",
            "Escribe un platillo: agua\n",
            "Precio del platillo: 3.6\n",
            "Escribe un platillo: tacos\n",
            "Precio del platillo: 10\n",
            "Escribe un platillo: salir\n",
            "{'ordenes': ['arroz', 'pizza', 'lasagna', 'agua', 'tacos'], 'precios': [5, 5, 7, 3.6, 10], 'total': 30.6}\n"
          ]
        }
      ]
    },
    {
      "cell_type": "markdown",
      "source": [
        "# **Ejercicio 2: La Aventura del Dungeon**\n",
        "\n",
        "Eres un aventurero atrapado en un calabozo.\n",
        "Cada sala puede tener: monstruos, tesoros, o estar vacía.\n",
        "\n",
        "👉 Tu tarea:\n",
        "\n",
        "Crear un diccionario del dungeon con 5 salas numeradas del 1 al 5 y valores posibles: \"monstruo\", \"tesoro\", \"vacía\".\n",
        "\n",
        "\n",
        "\n",
        "```\n",
        "dungeon = {\n",
        "  1: \"tesoro\",\n",
        "  2: \"monstruo\",\n",
        "  3: \"vacía\",\n",
        "  4: \"tesoro\",\n",
        "  5: \"monstruo\"\n",
        "}\n",
        "```\n",
        "El jugador empieza con:\n",
        "\n",
        "* vida = 3\n",
        "\n",
        "* tesoros = [] (lista vacía).\n",
        "\n",
        "Con un while, el jugador elige un número de sala:\n",
        "\n",
        "* Si hay un monstruo, pierde 1 vida.\n",
        "\n",
        "* Si hay un tesoro, se agrega a la lista y se marca la sala como \"vacía\".\n",
        "\n",
        "* Si está vacía, no pasa nada.\n",
        "\n",
        "Terminar cuando la vida sea 0 o el jugador escriba \"salir\".\n",
        "\n",
        "Mostrar un diccionario final con:\n",
        "\n",
        "\n",
        "\n",
        "```\n",
        "{\n",
        "  \"vida_restante\": <int>,\n",
        "  \"tesoros_encontrados\": [<lista>],\n",
        "  \"salas_visitadas\": [<lista_de_salas>]\n",
        "}\n",
        "\n",
        "```\n",
        "\n",
        "\n",
        "\n",
        "```\n",
        "Elige sala (1-5): 2\n",
        "¡Un monstruo! Pierdes 1 vida. Vida = 2\n",
        "Elige sala (1-5): 1\n",
        "¡Encontraste un tesoro! Ahora tienes: ['tesoro']\n",
        "Elige sala (1-5): 3\n",
        "Nada por aquí...\n",
        "Elige sala: salir\n",
        "Resultado final:\n",
        "{'vida_restante': 2, 'tesoros_encontrados': ['tesoro'], 'salas_visitadas': [2, 1, 3]}\n",
        "\n",
        "```\n",
        "\n",
        "\n"
      ],
      "metadata": {
        "id": "x8H0TCtKDE0a"
      }
    },
    {
      "cell_type": "code",
      "source": [
        "import random\n",
        "\n",
        "posibles = [\"tesoro\", \"monstruo\", \"vacía\"]\n",
        "num_salas = random.randint(5, 15)\n",
        "\n",
        "dungeon = {}\n",
        "\n",
        "for numero_sala in range(1, num_salas) :\n",
        "  dungeon[numero_sala] = random.choice(posibles)\n",
        "  random.shuffle(posibles)\n",
        "\n",
        "palabra_clave = \"salir\"\n",
        "vidas = random.randint(3, 7)\n",
        "tesoros = []\n",
        "\n",
        "sala = \"\"\n",
        "salas = []\n",
        "\n",
        "while vidas > 0 and sala != palabra_clave :\n",
        "  sala = input(f\"Elige sala (1-{num_salas - 1}): \")\n",
        "  if (sala != palabra_clave):\n",
        "    num_sala = int(sala)\n",
        "    valor = dungeon[num_sala]\n",
        "    if valor ==  \"monstruo\":\n",
        "      vidas -= 1\n",
        "      print(f\"¡Un monstruo! Pierdes 1 vida. Vida = {vidas}\")\n",
        "    elif valor == \"tesoro\" :\n",
        "      tesoros.append(valor)\n",
        "      dungeon[num_sala] = \"vacía\"\n",
        "      print(f\"¡Encontraste un tesoro! Ahora tienes: {tesoros}\")\n",
        "    else:\n",
        "      print(\"Nada por aquí...\")\n",
        "    salas.append(num_sala)\n",
        "\n",
        "dicc_final = {\"vida_restante\" : vidas,\n",
        "              \"tesoros_encontrados\" : tesoros,\n",
        "              \"salas_visitadas\" : salas}\n",
        "print(\"Resultado final:\")\n",
        "print(dicc_final)"
      ],
      "metadata": {
        "colab": {
          "base_uri": "https://localhost:8080/"
        },
        "id": "q-42cFhkgiEL",
        "outputId": "d969e9a9-ed20-415b-81e8-53ecbfd87b6f"
      },
      "execution_count": null,
      "outputs": [
        {
          "output_type": "stream",
          "name": "stdout",
          "text": [
            "Elige sala (1-10): 5\n",
            "¡Encontraste un tesoro! Ahora tienes: ['tesoro']\n",
            "Elige sala (1-10): 2\n",
            "¡Un monstruo! Pierdes 1 vida. Vida = 4\n",
            "Elige sala (1-10): 5\n",
            "Nada por aquí...\n",
            "Elige sala (1-10): 2\n",
            "¡Un monstruo! Pierdes 1 vida. Vida = 3\n",
            "Elige sala (1-10): 6\n",
            "¡Encontraste un tesoro! Ahora tienes: ['tesoro', 'tesoro']\n",
            "Elige sala (1-10): salir\n",
            "Resultado final:\n",
            "{'vida_restante': 3, 'tesoros_encontrados': ['tesoro', 'tesoro'], 'salas_visitadas': [5, 2, 5, 2, 6]}\n"
          ]
        }
      ]
    }
  ]
}